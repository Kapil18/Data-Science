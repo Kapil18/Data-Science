{
 "cells": [
  {
   "cell_type": "code",
   "execution_count": 1,
   "metadata": {},
   "outputs": [],
   "source": [
    "import pandas as pd\n",
    "import os\n",
    "from matplotlib import pyplot as plt\n",
    "import seaborn as sns\n",
    "%matplotlib inline\n",
    "import folium"
   ]
  },
  {
   "cell_type": "code",
   "execution_count": 61,
   "metadata": {},
   "outputs": [],
   "source": [
    "folders=os.listdir('./rdata')"
   ]
  },
  {
   "cell_type": "code",
   "execution_count": 62,
   "metadata": {
    "scrolled": false
   },
   "outputs": [],
   "source": [
    "df=pd.DataFrame()\n",
    "for i in folders:\n",
    "    for j in os.listdir('./rdata/'+i):\n",
    "        temp=pd.read_csv('./rdata/'+i+'/'+j,sep=\"|\")\n",
    "        df=pd.concat([df,temp])    "
   ]
  },
  {
   "cell_type": "code",
   "execution_count": 68,
   "metadata": {
    "scrolled": false
   },
   "outputs": [
    {
     "data": {
      "text/html": [
       "<div>\n",
       "<style scoped>\n",
       "    .dataframe tbody tr th:only-of-type {\n",
       "        vertical-align: middle;\n",
       "    }\n",
       "\n",
       "    .dataframe tbody tr th {\n",
       "        vertical-align: top;\n",
       "    }\n",
       "\n",
       "    .dataframe thead th {\n",
       "        text-align: right;\n",
       "    }\n",
       "</style>\n",
       "<table border=\"1\" class=\"dataframe\">\n",
       "  <thead>\n",
       "    <tr style=\"text-align: right;\">\n",
       "      <th></th>\n",
       "      <th>NAME</th>\n",
       "      <th>PRICE</th>\n",
       "      <th>CUSINE_CATEGORY</th>\n",
       "      <th>CITY</th>\n",
       "      <th>REGION</th>\n",
       "      <th>URL</th>\n",
       "      <th>PAGE NO</th>\n",
       "      <th>CUSINE TYPE</th>\n",
       "      <th>TIMING</th>\n",
       "      <th>RATING_TYPE</th>\n",
       "      <th>RATING</th>\n",
       "      <th>VOTES</th>\n",
       "    </tr>\n",
       "  </thead>\n",
       "  <tbody>\n",
       "    <tr>\n",
       "      <th>0</th>\n",
       "      <td>The Salt Cafe Kitchen &amp; Bar</td>\n",
       "      <td>1000</td>\n",
       "      <td>North Indian,Continental,Italian</td>\n",
       "      <td>Agra</td>\n",
       "      <td>Tajganj</td>\n",
       "      <td>https://www.zomato.com/agra/the-salt-cafe-kitc...</td>\n",
       "      <td>1</td>\n",
       "      <td>Casual Dining</td>\n",
       "      <td>1130am to 1130pm(Mon-Sun)</td>\n",
       "      <td>Excellent</td>\n",
       "      <td>4.8</td>\n",
       "      <td>273</td>\n",
       "    </tr>\n",
       "    <tr>\n",
       "      <th>1</th>\n",
       "      <td>Bhagat Halwai</td>\n",
       "      <td>300</td>\n",
       "      <td>Desserts,Bakery,Fast Food,South Indian</td>\n",
       "      <td>Agra</td>\n",
       "      <td>Civil Lines</td>\n",
       "      <td>https://www.zomato.com/agra/bhagat-halwai-civi...</td>\n",
       "      <td>1</td>\n",
       "      <td>Quick Bites</td>\n",
       "      <td>730am to 11pm(Mon-Sun)</td>\n",
       "      <td>Very Good</td>\n",
       "      <td>4.3</td>\n",
       "      <td>554</td>\n",
       "    </tr>\n",
       "    <tr>\n",
       "      <th>2</th>\n",
       "      <td>Bikanervala</td>\n",
       "      <td>700</td>\n",
       "      <td>North Indian,South Indian,Mithai,Street Food,D...</td>\n",
       "      <td>Agra</td>\n",
       "      <td>Khandari</td>\n",
       "      <td>https://www.zomato.com/agra/bikanervala-khanda...</td>\n",
       "      <td>1</td>\n",
       "      <td>Quick Bites</td>\n",
       "      <td>8am to 11pm(Mon-Sun)</td>\n",
       "      <td>Very Good</td>\n",
       "      <td>4.4</td>\n",
       "      <td>645</td>\n",
       "    </tr>\n",
       "    <tr>\n",
       "      <th>3</th>\n",
       "      <td>Mama Chicken Mama Franky House</td>\n",
       "      <td>600</td>\n",
       "      <td>North Indian,Mughlai,Rolls,Chinese,Fast Food,S...</td>\n",
       "      <td>Agra</td>\n",
       "      <td>Agra Cantt</td>\n",
       "      <td>https://www.zomato.com/agra/mama-chicken-mama-...</td>\n",
       "      <td>1</td>\n",
       "      <td>Quick Bites</td>\n",
       "      <td>1230pm to 12midnight(Mon,Wed,Thu,Fri,Sat...</td>\n",
       "      <td>Very Good</td>\n",
       "      <td>4.3</td>\n",
       "      <td>894</td>\n",
       "    </tr>\n",
       "    <tr>\n",
       "      <th>4</th>\n",
       "      <td>Honeydew Restaurant</td>\n",
       "      <td>500</td>\n",
       "      <td>North Indian,Fast Food,Chinese,South Indian</td>\n",
       "      <td>Agra</td>\n",
       "      <td>Dayal Bagh</td>\n",
       "      <td>https://www.zomato.com/agra/honeydew-restauran...</td>\n",
       "      <td>1</td>\n",
       "      <td>Quick Bites</td>\n",
       "      <td>11am to 1035pm(Mon,Tue,Wed,Fri,Sat),11am to ...</td>\n",
       "      <td>Very Good</td>\n",
       "      <td>4.1</td>\n",
       "      <td>489</td>\n",
       "    </tr>\n",
       "  </tbody>\n",
       "</table>\n",
       "</div>"
      ],
      "text/plain": [
       "                             NAME PRICE  \\\n",
       "0     The Salt Cafe Kitchen & Bar  1000   \n",
       "1                   Bhagat Halwai   300   \n",
       "2                     Bikanervala   700   \n",
       "3  Mama Chicken Mama Franky House   600   \n",
       "4             Honeydew Restaurant   500   \n",
       "\n",
       "                                     CUSINE_CATEGORY  CITY       REGION  \\\n",
       "0                   North Indian,Continental,Italian  Agra      Tajganj   \n",
       "1             Desserts,Bakery,Fast Food,South Indian  Agra  Civil Lines   \n",
       "2  North Indian,South Indian,Mithai,Street Food,D...  Agra     Khandari   \n",
       "3  North Indian,Mughlai,Rolls,Chinese,Fast Food,S...  Agra   Agra Cantt   \n",
       "4        North Indian,Fast Food,Chinese,South Indian  Agra   Dayal Bagh   \n",
       "\n",
       "                                                 URL PAGE NO    CUSINE TYPE  \\\n",
       "0  https://www.zomato.com/agra/the-salt-cafe-kitc...       1  Casual Dining   \n",
       "1  https://www.zomato.com/agra/bhagat-halwai-civi...       1    Quick Bites   \n",
       "2  https://www.zomato.com/agra/bikanervala-khanda...       1    Quick Bites   \n",
       "3  https://www.zomato.com/agra/mama-chicken-mama-...       1    Quick Bites   \n",
       "4  https://www.zomato.com/agra/honeydew-restauran...       1    Quick Bites   \n",
       "\n",
       "                                            TIMING RATING_TYPE RATING VOTES  \n",
       "0                        1130am to 1130pm(Mon-Sun)   Excellent    4.8   273  \n",
       "1                           730am to 11pm(Mon-Sun)   Very Good    4.3   554  \n",
       "2                             8am to 11pm(Mon-Sun)   Very Good    4.4   645  \n",
       "3      1230pm to 12midnight(Mon,Wed,Thu,Fri,Sat...   Very Good    4.3   894  \n",
       "4  11am to 1035pm(Mon,Tue,Wed,Fri,Sat),11am to ...   Very Good    4.1   489  "
      ]
     },
     "execution_count": 68,
     "metadata": {},
     "output_type": "execute_result"
    }
   ],
   "source": [
    "df.head()"
   ]
  },
  {
   "cell_type": "code",
   "execution_count": 71,
   "metadata": {},
   "outputs": [
    {
     "data": {
      "application/javascript": [
       "\n",
       "        if (window._pyforest_update_imports_cell) { window._pyforest_update_imports_cell('import pandas as pd\\nimport numpy as np'); }\n",
       "    "
      ],
      "text/plain": [
       "<IPython.core.display.Javascript object>"
      ]
     },
     "metadata": {},
     "output_type": "display_data"
    }
   ],
   "source": [
    "x=np.arange(1,df.shape[0]+1)"
   ]
  },
  {
   "cell_type": "code",
   "execution_count": 73,
   "metadata": {},
   "outputs": [],
   "source": [
    "df.index=x"
   ]
  },
  {
   "cell_type": "code",
   "execution_count": 77,
   "metadata": {},
   "outputs": [],
   "source": [
    "df.to_csv(\"zomato_data.csv\",index=False)"
   ]
  },
  {
   "cell_type": "code",
   "execution_count": 2,
   "metadata": {
    "scrolled": false
   },
   "outputs": [],
   "source": [
    "df1=pd.read_csv(\"zomato_data.csv\")"
   ]
  },
  {
   "cell_type": "code",
   "execution_count": 3,
   "metadata": {
    "scrolled": true
   },
   "outputs": [
    {
     "data": {
      "text/html": [
       "<div>\n",
       "<style scoped>\n",
       "    .dataframe tbody tr th:only-of-type {\n",
       "        vertical-align: middle;\n",
       "    }\n",
       "\n",
       "    .dataframe tbody tr th {\n",
       "        vertical-align: top;\n",
       "    }\n",
       "\n",
       "    .dataframe thead th {\n",
       "        text-align: right;\n",
       "    }\n",
       "</style>\n",
       "<table border=\"1\" class=\"dataframe\">\n",
       "  <thead>\n",
       "    <tr style=\"text-align: right;\">\n",
       "      <th></th>\n",
       "      <th>NAME</th>\n",
       "      <th>PRICE</th>\n",
       "      <th>CUSINE_CATEGORY</th>\n",
       "      <th>CITY</th>\n",
       "      <th>REGION</th>\n",
       "      <th>URL</th>\n",
       "      <th>PAGE NO</th>\n",
       "      <th>CUSINE TYPE</th>\n",
       "      <th>TIMING</th>\n",
       "      <th>RATING_TYPE</th>\n",
       "      <th>RATING</th>\n",
       "      <th>VOTES</th>\n",
       "    </tr>\n",
       "  </thead>\n",
       "  <tbody>\n",
       "    <tr>\n",
       "      <th>0</th>\n",
       "      <td>The Salt Cafe Kitchen &amp; Bar</td>\n",
       "      <td>1000</td>\n",
       "      <td>North Indian,Continental,Italian</td>\n",
       "      <td>Agra</td>\n",
       "      <td>Tajganj</td>\n",
       "      <td>https://www.zomato.com/agra/the-salt-cafe-kitc...</td>\n",
       "      <td>1</td>\n",
       "      <td>Casual Dining</td>\n",
       "      <td>1130am to 1130pm(Mon-Sun)</td>\n",
       "      <td>Excellent</td>\n",
       "      <td>4.8</td>\n",
       "      <td>273</td>\n",
       "    </tr>\n",
       "    <tr>\n",
       "      <th>1</th>\n",
       "      <td>Bhagat Halwai</td>\n",
       "      <td>300</td>\n",
       "      <td>Desserts,Bakery,Fast Food,South Indian</td>\n",
       "      <td>Agra</td>\n",
       "      <td>Civil Lines</td>\n",
       "      <td>https://www.zomato.com/agra/bhagat-halwai-civi...</td>\n",
       "      <td>1</td>\n",
       "      <td>Quick Bites</td>\n",
       "      <td>730am to 11pm(Mon-Sun)</td>\n",
       "      <td>Very Good</td>\n",
       "      <td>4.3</td>\n",
       "      <td>554</td>\n",
       "    </tr>\n",
       "    <tr>\n",
       "      <th>2</th>\n",
       "      <td>Bikanervala</td>\n",
       "      <td>700</td>\n",
       "      <td>North Indian,South Indian,Mithai,Street Food,D...</td>\n",
       "      <td>Agra</td>\n",
       "      <td>Khandari</td>\n",
       "      <td>https://www.zomato.com/agra/bikanervala-khanda...</td>\n",
       "      <td>1</td>\n",
       "      <td>Quick Bites</td>\n",
       "      <td>8am to 11pm(Mon-Sun)</td>\n",
       "      <td>Very Good</td>\n",
       "      <td>4.4</td>\n",
       "      <td>645</td>\n",
       "    </tr>\n",
       "    <tr>\n",
       "      <th>3</th>\n",
       "      <td>Mama Chicken Mama Franky House</td>\n",
       "      <td>600</td>\n",
       "      <td>North Indian,Mughlai,Rolls,Chinese,Fast Food,S...</td>\n",
       "      <td>Agra</td>\n",
       "      <td>Agra Cantt</td>\n",
       "      <td>https://www.zomato.com/agra/mama-chicken-mama-...</td>\n",
       "      <td>1</td>\n",
       "      <td>Quick Bites</td>\n",
       "      <td>1230pm to 12midnight(Mon,Wed,Thu,Fri,Sat...</td>\n",
       "      <td>Very Good</td>\n",
       "      <td>4.3</td>\n",
       "      <td>894</td>\n",
       "    </tr>\n",
       "    <tr>\n",
       "      <th>4</th>\n",
       "      <td>Honeydew Restaurant</td>\n",
       "      <td>500</td>\n",
       "      <td>North Indian,Fast Food,Chinese,South Indian</td>\n",
       "      <td>Agra</td>\n",
       "      <td>Dayal Bagh</td>\n",
       "      <td>https://www.zomato.com/agra/honeydew-restauran...</td>\n",
       "      <td>1</td>\n",
       "      <td>Quick Bites</td>\n",
       "      <td>11am to 1035pm(Mon,Tue,Wed,Fri,Sat),11am to ...</td>\n",
       "      <td>Very Good</td>\n",
       "      <td>4.1</td>\n",
       "      <td>489</td>\n",
       "    </tr>\n",
       "  </tbody>\n",
       "</table>\n",
       "</div>"
      ],
      "text/plain": [
       "                             NAME  PRICE  \\\n",
       "0     The Salt Cafe Kitchen & Bar   1000   \n",
       "1                   Bhagat Halwai    300   \n",
       "2                     Bikanervala    700   \n",
       "3  Mama Chicken Mama Franky House    600   \n",
       "4             Honeydew Restaurant    500   \n",
       "\n",
       "                                     CUSINE_CATEGORY  CITY       REGION  \\\n",
       "0                   North Indian,Continental,Italian  Agra      Tajganj   \n",
       "1             Desserts,Bakery,Fast Food,South Indian  Agra  Civil Lines   \n",
       "2  North Indian,South Indian,Mithai,Street Food,D...  Agra     Khandari   \n",
       "3  North Indian,Mughlai,Rolls,Chinese,Fast Food,S...  Agra   Agra Cantt   \n",
       "4        North Indian,Fast Food,Chinese,South Indian  Agra   Dayal Bagh   \n",
       "\n",
       "                                                 URL  PAGE NO    CUSINE TYPE  \\\n",
       "0  https://www.zomato.com/agra/the-salt-cafe-kitc...        1  Casual Dining   \n",
       "1  https://www.zomato.com/agra/bhagat-halwai-civi...        1    Quick Bites   \n",
       "2  https://www.zomato.com/agra/bikanervala-khanda...        1    Quick Bites   \n",
       "3  https://www.zomato.com/agra/mama-chicken-mama-...        1    Quick Bites   \n",
       "4  https://www.zomato.com/agra/honeydew-restauran...        1    Quick Bites   \n",
       "\n",
       "                                            TIMING RATING_TYPE RATING VOTES  \n",
       "0                        1130am to 1130pm(Mon-Sun)   Excellent    4.8   273  \n",
       "1                           730am to 11pm(Mon-Sun)   Very Good    4.3   554  \n",
       "2                             8am to 11pm(Mon-Sun)   Very Good    4.4   645  \n",
       "3      1230pm to 12midnight(Mon,Wed,Thu,Fri,Sat...   Very Good    4.3   894  \n",
       "4  11am to 1035pm(Mon,Tue,Wed,Fri,Sat),11am to ...   Very Good    4.1   489  "
      ]
     },
     "execution_count": 3,
     "metadata": {},
     "output_type": "execute_result"
    }
   ],
   "source": [
    "df1.head()"
   ]
  },
  {
   "cell_type": "code",
   "execution_count": 4,
   "metadata": {
    "scrolled": true
   },
   "outputs": [],
   "source": [
    "City=df1['CITY'].unique()"
   ]
  },
  {
   "cell_type": "code",
   "execution_count": 5,
   "metadata": {
    "scrolled": true
   },
   "outputs": [
    {
     "name": "stdout",
     "output_type": "stream",
     "text": [
      "Agra : 893\n",
      "Ahmedabad : 2598\n",
      "Ajmer : 260\n",
      "Alappuzha : 17\n",
      "Allahabad : 370\n",
      "Amravati : 182\n",
      "Amritsar : 537\n",
      "Aurangabad : 803\n",
      "Bengaluru : 8506\n",
      "Bhopal : 1280\n",
      "Bhubaneswar : 1073\n",
      "Chandigarh : 2145\n",
      "Chennai : 4845\n",
      "Coimbatore : 1056\n",
      "Cuttack : 187\n",
      "Darjeeling : 1\n",
      "Dehradun : 802\n",
      "Delhi NCR : 19610\n",
      "Dharamshala : 50\n",
      "Gangtok : 5\n",
      "Goa : 901\n",
      "Gorakhpur : 240\n",
      "Guntur : 207\n",
      "Guwahati : 706\n",
      "Gwalior : 526\n",
      "Haridwar : 207\n",
      "Hyderabad : 5255\n",
      "Indore : 1622\n",
      "Jabalpur : 409\n",
      "Jaipur : 2603\n",
      "Jalandhar : 485\n",
      "Jammu : 293\n",
      "Jamnagar : 164\n",
      "Jamshedpur : 290\n",
      "Jhansi : 303\n",
      "Jodhpur : 537\n",
      "Kanpur : 835\n",
      "Kochi : 1031\n",
      "Kolhapur : 277\n",
      "Kolkata : 4310\n",
      "Kota : 584\n",
      "Lucknow : 1838\n",
      "Ludhiana : 1272\n",
      "Madurai : 375\n",
      "Manali : 17\n",
      "Mangalore : 480\n",
      "Manipal : 261\n",
      "Meerut : 364\n",
      "Mumbai : 14138\n",
      "Mussoorie : 11\n",
      "Mysore : 422\n",
      "Nagpur : 1683\n",
      "Nainital : 43\n",
      "Nashik : 783\n",
      "Neemrana : 3\n",
      "Ooty : 67\n",
      "Palakkad : 18\n",
      "Patiala : 392\n",
      "Patna : 678\n",
      "Puducherry : 335\n",
      "Pune : 7549\n",
      "Pushkar : 4\n",
      "Raipur : 817\n",
      "Rajkot : 406\n",
      "Ranchi : 647\n",
      "Rishikesh : 15\n",
      "Salem : 146\n",
      "Shimla : 29\n",
      "Siliguri : 176\n",
      "Srinagar : 19\n",
      "Surat : 1039\n",
      "Thrissur : 182\n",
      "Tirupati : 161\n",
      "Trichy : 221\n",
      "Trivandrum : 309\n",
      "Udaipur : 742\n",
      "Vadodara : 1288\n",
      "Varanasi : 552\n",
      "Vellore : 141\n",
      "Vijayawada : 347\n",
      "Visakhapatnam : 648\n"
     ]
    }
   ],
   "source": [
    "restcount=[]\n",
    "j=0\n",
    "for i in City:\n",
    "    restcount.append(len(df1[df1['CITY']==i]['NAME']))\n",
    "    print(i,\":\",restcount[j])\n",
    "    j+=1"
   ]
  },
  {
   "cell_type": "code",
   "execution_count": 6,
   "metadata": {
    "scrolled": true
   },
   "outputs": [
    {
     "data": {
      "text/plain": [
       "<matplotlib.axes._subplots.AxesSubplot at 0x950d149a58>"
      ]
     },
     "execution_count": 6,
     "metadata": {},
     "output_type": "execute_result"
    },
    {
     "data": {
      "image/png": "[encoded data removed]",
      "text/plain": [
       "<Figure size 1440x1440 with 1 Axes>"
      ]
     },
     "metadata": {
      "needs_background": "light"
     },
     "output_type": "display_data"
    }
   ],
   "source": [
    "plt.figure(figsize=(20,20))\n",
    "sns.countplot(y=df1['CITY'])"
   ]
  }
 ],
 "metadata": {
  "kernelspec": {
   "display_name": "Python 3",
   "language": "python",
   "name": "python3"
  },
  "language_info": {
   "codemirror_mode": {
    "name": "ipython",
    "version": 3
   },
   "file_extension": ".py",
   "mimetype": "text/x-python",
   "name": "python",
   "nbconvert_exporter": "python",
   "pygments_lexer": "ipython3",
   "version": "3.7.3"
  }
 },
 "nbformat": 4,
 "nbformat_minor": 2
}
